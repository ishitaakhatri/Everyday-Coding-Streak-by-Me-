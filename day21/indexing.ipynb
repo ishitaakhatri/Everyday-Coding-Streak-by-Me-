{
 "cells": [
  {
   "cell_type": "code",
   "execution_count": 11,
   "metadata": {},
   "outputs": [
    {
     "name": "stdout",
     "output_type": "stream",
     "text": [
      "5\n",
      "[3 4 5]\n",
      "[7 6 5 4 3 2 1]\n"
     ]
    }
   ],
   "source": [
    "import numpy as np\n",
    "array_1d = np.array([1,2,3,4,5,6,7])\n",
    "print(array_1d[4])\n",
    "# slicing \n",
    "print(array_1d[2:5])\n",
    "print(array_1d[::-1])"
   ]
  },
  {
   "cell_type": "code",
   "execution_count": 25,
   "metadata": {},
   "outputs": [
    {
     "name": "stdout",
     "output_type": "stream",
     "text": [
      "6\n",
      "[7 6 9]\n",
      "[5 8 6]\n",
      "[[8 1]\n",
      " [6 9]]\n"
     ]
    },
    {
     "data": {
      "text/plain": [
       "array([[2, 4, 5],\n",
       "       [1, 3, 8],\n",
       "       [6, 7, 9]])"
      ]
     },
     "execution_count": 25,
     "metadata": {},
     "output_type": "execute_result"
    }
   ],
   "source": [
    "# 2d array \n",
    "array_2d = np.array([[2,5,4],[3,8,1],[7,6,9]])\n",
    "print(array_2d[2,1])\n",
    "print(array_2d[2])\n",
    "print(array_2d[:,1])\n",
    "print(array_2d[1:3,1:3])\n",
    "np.sort(array_2d,axis=1)"
   ]
  }
 ],
 "metadata": {
  "kernelspec": {
   "display_name": "Python 3",
   "language": "python",
   "name": "python3"
  },
  "language_info": {
   "codemirror_mode": {
    "name": "ipython",
    "version": 3
   },
   "file_extension": ".py",
   "mimetype": "text/x-python",
   "name": "python",
   "nbconvert_exporter": "python",
   "pygments_lexer": "ipython3",
   "version": "3.12.4"
  }
 },
 "nbformat": 4,
 "nbformat_minor": 2
}
