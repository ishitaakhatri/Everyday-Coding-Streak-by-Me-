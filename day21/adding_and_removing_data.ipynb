{
 "cells": [
  {
   "cell_type": "code",
   "execution_count": 2,
   "metadata": {},
   "outputs": [
    {
     "data": {
      "text/plain": [
       "array([[ 1, 22],\n",
       "       [ 2, 21],\n",
       "       [ 3, 27],\n",
       "       [ 4, 26],\n",
       "       [ 5, 30],\n",
       "       [ 5, 17]])"
      ]
     },
     "execution_count": 2,
     "metadata": {},
     "output_type": "execute_result"
    }
   ],
   "source": [
    "# concatinating arrays \n",
    "import numpy as np \n",
    "classroom_id_and_sizes = np.array([[1,22],[2,21],[3,27],[4,26]])\n",
    "new_classroom = np.array([[5,30],[5,17]])\n",
    "np.concatenate((classroom_id_and_sizes,new_classroom))"
   ]
  },
  {
   "cell_type": "code",
   "execution_count": 10,
   "metadata": {},
   "outputs": [
    {
     "data": {
      "text/plain": [
       "array([['1', '22', 'james'],\n",
       "       ['2', '21', 'george'],\n",
       "       ['3', '27', 'amy'],\n",
       "       ['4', '26', 'meehir']], dtype='<U21')"
      ]
     },
     "execution_count": 10,
     "metadata": {},
     "output_type": "execute_result"
    }
   ],
   "source": [
    "classroom_id_and_sizes = np.array([[1,22],[2,21],[3,27],[4,26]])\n",
    "grade_levels_and_teachers = np.array([[1,'james'],[1,'george'],[3,'amy'],[3,'meehir']])\n",
    "classroom_data = np.concatenate((classroom_id_and_sizes,grade_levels_and_teachers),axis=1)\n",
    "np.delete(classroom_data,1,axis=0)\n",
    "np.delete(classroom_data,2,axis=1)"
   ]
  },
  {
   "cell_type": "code",
   "execution_count": 7,
   "metadata": {},
   "outputs": [
    {
     "data": {
      "text/plain": [
       "array([[1, 2, 3]])"
      ]
     },
     "execution_count": 7,
     "metadata": {},
     "output_type": "execute_result"
    }
   ],
   "source": [
    "array_1d = np.array([1,2,3,])\n",
    "column_array_2d = array_1d.reshape((3,1))\n",
    "column_array_2d"
   ]
  }
 ],
 "metadata": {
  "kernelspec": {
   "display_name": "Python 3",
   "language": "python",
   "name": "python3"
  },
  "language_info": {
   "codemirror_mode": {
    "name": "ipython",
    "version": 3
   },
   "file_extension": ".py",
   "mimetype": "text/x-python",
   "name": "python",
   "nbconvert_exporter": "python",
   "pygments_lexer": "ipython3",
   "version": "3.12.4"
  }
 },
 "nbformat": 4,
 "nbformat_minor": 2
}
