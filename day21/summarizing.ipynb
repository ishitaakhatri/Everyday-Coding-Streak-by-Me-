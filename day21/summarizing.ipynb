{
 "cells": [
  {
   "cell_type": "code",
   "execution_count": 26,
   "metadata": {},
   "outputs": [
    {
     "name": "stdout",
     "output_type": "stream",
     "text": [
      "24\n",
      "[10 11  3]\n",
      "[ 3 10  6  1  4]\n"
     ]
    }
   ],
   "source": [
    "import numpy as np\n",
    "import matplotlib.pyplot as plt\n",
    "security_breaches = np.array([\n",
    "    [0,2,1],\n",
    "    [6,4,0],\n",
    "    [2,3,1],\n",
    "    [0,0,1],\n",
    "    [2,2,0]])\n",
    "security_breaches\n",
    "print(security_breaches.sum())\n",
    "print(security_breaches.sum(axis=0))\n",
    "print(security_breaches.sum(axis=1))"
   ]
  },
  {
   "cell_type": "code",
   "execution_count": 27,
   "metadata": {},
   "outputs": [
    {
     "name": "stdout",
     "output_type": "stream",
     "text": [
      "0\n",
      "[0 0 1 0 0]\n",
      "[0 0 0]\n"
     ]
    }
   ],
   "source": [
    "print(security_breaches.min())\n",
    "print(security_breaches.min(axis=1))\n",
    "print(security_breaches.min(axis=0))"
   ]
  },
  {
   "cell_type": "code",
   "execution_count": 28,
   "metadata": {},
   "outputs": [
    {
     "name": "stdout",
     "output_type": "stream",
     "text": [
      "6\n",
      "[2 6 3 1 2]\n",
      "[6 4 1]\n"
     ]
    }
   ],
   "source": [
    "print(security_breaches.max())\n",
    "print(security_breaches.max(axis=1))\n",
    "print(security_breaches.max(axis=0))"
   ]
  },
  {
   "cell_type": "code",
   "execution_count": 29,
   "metadata": {},
   "outputs": [
    {
     "name": "stdout",
     "output_type": "stream",
     "text": [
      "1.6\n",
      "[1.         3.33333333 2.         0.33333333 1.33333333]\n",
      "[2.  2.2 0.6]\n"
     ]
    }
   ],
   "source": [
    "print(security_breaches.mean())\n",
    "print(security_breaches.mean(axis=1))\n",
    "print(security_breaches.mean(axis=0))"
   ]
  },
  {
   "cell_type": "code",
   "execution_count": 30,
   "metadata": {},
   "outputs": [
    {
     "name": "stdout",
     "output_type": "stream",
     "text": [
      "[[2.  2.2 0.6]]\n"
     ]
    }
   ],
   "source": [
    "print(security_breaches.mean(axis=0,keepdims=True))"
   ]
  },
  {
   "cell_type": "code",
   "execution_count": 31,
   "metadata": {},
   "outputs": [
    {
     "name": "stdout",
     "output_type": "stream",
     "text": [
      "[ 0  2  3  9 13 13 15 18 19 19 19 20 22 24 24]\n",
      "[[ 0  2  1]\n",
      " [ 6  6  1]\n",
      " [ 8  9  2]\n",
      " [ 8  9  3]\n",
      " [10 11  3]]\n",
      "[[ 0  2  3]\n",
      " [ 6 10 10]\n",
      " [ 2  5  6]\n",
      " [ 0  0  1]\n",
      " [ 2  4  4]]\n"
     ]
    }
   ],
   "source": [
    "print(security_breaches.cumsum())\n",
    "print(security_breaches.cumsum(axis=0))\n",
    "print(security_breaches.cumsum(axis=1))"
   ]
  },
  {
   "cell_type": "code",
   "execution_count": 44,
   "metadata": {},
   "outputs": [
    {
     "ename": "IndexError",
     "evalue": "too many indices for array: array is 1-dimensional, but 2 were indexed",
     "output_type": "error",
     "traceback": [
      "\u001b[1;31m---------------------------------------------------------------------------\u001b[0m",
      "\u001b[1;31mIndexError\u001b[0m                                Traceback (most recent call last)",
      "Cell \u001b[1;32mIn[44], line 2\u001b[0m\n\u001b[0;32m      1\u001b[0m cum_sums_by_client \u001b[38;5;241m=\u001b[39m security_breaches\u001b[38;5;241m.\u001b[39mcumsum()\n\u001b[1;32m----> 2\u001b[0m plt\u001b[38;5;241m.\u001b[39mplot(np\u001b[38;5;241m.\u001b[39marange(\u001b[38;5;241m1\u001b[39m,\u001b[38;5;241m6\u001b[39m),\u001b[43mcum_sums_by_client\u001b[49m\u001b[43m[\u001b[49m\u001b[43m:\u001b[49m\u001b[43m,\u001b[49m\u001b[38;5;241;43m0\u001b[39;49m\u001b[43m]\u001b[49m\u001b[38;5;241m.\u001b[39mcumsum(axis\u001b[38;5;241m=\u001b[39m\u001b[38;5;241m0\u001b[39m),label\u001b[38;5;241m=\u001b[39m\u001b[38;5;124m'\u001b[39m\u001b[38;5;124mclient_1\u001b[39m\u001b[38;5;124m'\u001b[39m)\n\u001b[0;32m      3\u001b[0m plt\u001b[38;5;241m.\u001b[39mplot(np\u001b[38;5;241m.\u001b[39marange(\u001b[38;5;241m1\u001b[39m,\u001b[38;5;241m6\u001b[39m),cum_sums_by_client\u001b[38;5;241m.\u001b[39mmean(axis\u001b[38;5;241m=\u001b[39m\u001b[38;5;241m1\u001b[39m),label\u001b[38;5;241m=\u001b[39m\u001b[38;5;124m'\u001b[39m\u001b[38;5;124maverage\u001b[39m\u001b[38;5;124m'\u001b[39m)\n\u001b[0;32m      4\u001b[0m plt\u001b[38;5;241m.\u001b[39mlegend()\n",
      "\u001b[1;31mIndexError\u001b[0m: too many indices for array: array is 1-dimensional, but 2 were indexed"
     ]
    }
   ],
   "source": [
    "cum_sums_by_client = security_breaches.cumsum()\n",
    "plt.plot(np.arange(1,6),cum_sums_by_client[:,0].cumsum(axis=0),label='client_1')\n",
    "plt.plot(np.arange(1,6),cum_sums_by_client.mean(axis=1),label='average')\n",
    "plt.legend()\n",
    "plt.show()"
   ]
  }
 ],
 "metadata": {
  "kernelspec": {
   "display_name": "Python 3",
   "language": "python",
   "name": "python3"
  },
  "language_info": {
   "codemirror_mode": {
    "name": "ipython",
    "version": 3
   },
   "file_extension": ".py",
   "mimetype": "text/x-python",
   "name": "python",
   "nbconvert_exporter": "python",
   "pygments_lexer": "ipython3",
   "version": "3.12.4"
  }
 },
 "nbformat": 4,
 "nbformat_minor": 2
}
