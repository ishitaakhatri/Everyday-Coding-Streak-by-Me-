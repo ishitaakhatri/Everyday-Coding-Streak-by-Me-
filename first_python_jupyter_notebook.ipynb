{
 "cells": [
  {
   "cell_type": "code",
   "execution_count": 10,
   "id": "bae90694-1d72-41e7-84d5-60b45ca782f4",
   "metadata": {},
   "outputs": [
    {
     "data": {
      "text/plain": [
       "array([1, 2, 3, 4, 5])"
      ]
     },
     "execution_count": 10,
     "metadata": {},
     "output_type": "execute_result"
    }
   ],
   "source": [
    "import numpy as np\n",
    "my_list = [1,2,3,4,5]\n",
    "my_array = np.array(my_list)\n",
    "my_array"
   ]
  },
  {
   "cell_type": "code",
   "execution_count": 14,
   "id": "b6217525-638b-45aa-9dde-5430b6c26694",
   "metadata": {},
   "outputs": [
    {
     "data": {
      "text/plain": [
       "numpy.ndarray"
      ]
     },
     "execution_count": 14,
     "metadata": {},
     "output_type": "execute_result"
    }
   ],
   "source": [
    "type(my_array)\n"
   ]
  },
  {
   "cell_type": "code",
   "execution_count": 16,
   "id": "fdea6172-e8bf-4e8d-a262-df0aa9cedda2",
   "metadata": {},
   "outputs": [
    {
     "data": {
      "text/plain": [
       "array([[1, 2, 3],\n",
       "       [4, 5, 6],\n",
       "       [7, 8, 9]])"
      ]
     },
     "execution_count": 16,
     "metadata": {},
     "output_type": "execute_result"
    }
   ],
   "source": [
    "#2d array \n",
    "my_2d_list = [[1,2,3],[4,5,6],[7,8,9]]\n",
    "my_2d_array = np.array(my_2d_list)\n",
    "my_2d_array"
   ]
  },
  {
   "cell_type": "code",
   "execution_count": 36,
   "id": "cf168e3b-17a1-4fc5-be57-46ba9a7246cc",
   "metadata": {},
   "outputs": [
    {
     "name": "stdout",
     "output_type": "stream",
     "text": [
      "[[0. 0. 0.]\n",
      " [0. 0. 0.]\n",
      " [0. 0. 0.]\n",
      " [0. 0. 0.]\n",
      " [0. 0. 0.]]\n",
      "[[0.71169106 0.77047152 0.68468334]\n",
      " [0.97634809 0.31761547 0.34268123]]\n",
      "[-3 -2 -1  0  1  2  3]\n",
      "[-3  0  3]\n",
      "[0 1 2 3]\n"
     ]
    }
   ],
   "source": [
    "# np.zeros()\n",
    "# np.random.random()\n",
    "# np.arange\n",
    "print(np.zeros((5,3)))\n",
    "print(np.random.random((2,3)))\n",
    "print(np.arange(-3,4))\n",
    "print(np.arange(-3,4,3))\n",
    "print(np.arange(4))"
   ]
  },
  {
   "cell_type": "code",
   "execution_count": 50,
   "id": "3ea7e328-86ca-4dd6-ad8d-fb97a86858d1",
   "metadata": {},
   "outputs": [
    {
     "data": {
      "text/plain": [
       "(2, 2)"
      ]
     },
     "execution_count": 50,
     "metadata": {},
     "output_type": "execute_result"
    }
   ],
   "source": [
    "# 3d array\n",
    "array_1_2d = [[1,2],[3,5]]\n",
    "array_2_2d = [[4,5],[6,7]]\n",
    "array_3_2d = [[7,8],[9,4]]\n",
    "array_3d = [[array_1_2d,array_2_2d,array_3_2d]]\n",
    "array_3d\n",
    "array = np.array(array_1_2d)\n",
    "array.shape"
   ]
  },
  {
   "cell_type": "code",
   "execution_count": 58,
   "id": "10bc0311-c820-4d26-97e7-b1285affec6f",
   "metadata": {},
   "outputs": [
    {
     "name": "stdout",
     "output_type": "stream",
     "text": [
      "[1 2 3 4 5 6]\n"
     ]
    }
   ],
   "source": [
    "array = np.array([[1,2],[3,4],[5,6]])\n",
    "print(array.flatten())"
   ]
  },
  {
   "cell_type": "code",
   "execution_count": 74,
   "id": "c17be528-4dfb-420e-92cc-2a5a45f77e85",
   "metadata": {},
   "outputs": [
    {
     "data": {
      "text/plain": [
       "array([[1, 2, 3],\n",
       "       [4, 5, 6]])"
      ]
     },
     "execution_count": 74,
     "metadata": {},
     "output_type": "execute_result"
    }
   ],
   "source": [
    "array = np.array([[1,2],[3,4],[5,6]])\n",
    "array.reshape(2,3)"
   ]
  },
  {
   "cell_type": "code",
   "execution_count": null,
   "id": "4b6718cd-c03c-4849-8648-610ef782a596",
   "metadata": {},
   "outputs": [],
   "source": []
  }
 ],
 "metadata": {
  "kernelspec": {
   "display_name": "Python 3 (ipykernel)",
   "language": "python",
   "name": "python3"
  },
  "language_info": {
   "codemirror_mode": {
    "name": "ipython",
    "version": 3
   },
   "file_extension": ".py",
   "mimetype": "text/x-python",
   "name": "python",
   "nbconvert_exporter": "python",
   "pygments_lexer": "ipython3",
   "version": "3.12.4"
  }
 },
 "nbformat": 4,
 "nbformat_minor": 5
}
