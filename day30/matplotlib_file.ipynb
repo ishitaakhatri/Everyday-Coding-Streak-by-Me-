{
 "cells": [
  {
   "cell_type": "code",
   "execution_count": 11,
   "metadata": {},
   "outputs": [
    {
     "ename": "ModuleNotFoundError",
     "evalue": "No module named 'pandas'",
     "output_type": "error",
     "traceback": [
      "\u001b[1;31m---------------------------------------------------------------------------\u001b[0m",
      "\u001b[1;31mModuleNotFoundError\u001b[0m                       Traceback (most recent call last)",
      "Cell \u001b[1;32mIn[11], line 1\u001b[0m\n\u001b[1;32m----> 1\u001b[0m \u001b[38;5;28;01mimport\u001b[39;00m \u001b[38;5;21;01mpandas\u001b[39;00m \u001b[38;5;28;01mas\u001b[39;00m \u001b[38;5;21;01mpd\u001b[39;00m\n\u001b[0;32m      3\u001b[0m \u001b[38;5;66;03m# Creating the dataset\u001b[39;00m\n\u001b[0;32m      4\u001b[0m data \u001b[38;5;241m=\u001b[39m {\n\u001b[0;32m      5\u001b[0m     \u001b[38;5;124m'\u001b[39m\u001b[38;5;124mYear\u001b[39m\u001b[38;5;124m'\u001b[39m: [\u001b[38;5;241m2014\u001b[39m, \u001b[38;5;241m2014\u001b[39m, \u001b[38;5;241m2015\u001b[39m, \u001b[38;5;241m2015\u001b[39m, \u001b[38;5;241m2016\u001b[39m, \u001b[38;5;241m2016\u001b[39m, \u001b[38;5;241m2017\u001b[39m, \u001b[38;5;241m2017\u001b[39m, \u001b[38;5;241m2018\u001b[39m, \u001b[38;5;241m2018\u001b[39m,\n\u001b[0;32m      6\u001b[0m              \u001b[38;5;241m2019\u001b[39m, \u001b[38;5;241m2019\u001b[39m, \u001b[38;5;241m2020\u001b[39m, \u001b[38;5;241m2020\u001b[39m, \u001b[38;5;241m2021\u001b[39m, \u001b[38;5;241m2021\u001b[39m, \u001b[38;5;241m2022\u001b[39m, \u001b[38;5;241m2022\u001b[39m, \u001b[38;5;241m2023\u001b[39m, \u001b[38;5;241m2023\u001b[39m],\n\u001b[1;32m   (...)\u001b[0m\n\u001b[0;32m     10\u001b[0m                                 \u001b[38;5;241m413\u001b[39m, \u001b[38;5;241m414\u001b[39m, \u001b[38;5;241m416\u001b[39m, \u001b[38;5;241m417\u001b[39m, \u001b[38;5;241m419\u001b[39m, \u001b[38;5;241m420\u001b[39m, \u001b[38;5;241m422\u001b[39m, \u001b[38;5;241m423\u001b[39m, \u001b[38;5;241m425\u001b[39m, \u001b[38;5;241m426\u001b[39m],\n\u001b[0;32m     11\u001b[0m }\n",
      "\u001b[1;31mModuleNotFoundError\u001b[0m: No module named 'pandas'"
     ]
    }
   ],
   "source": [
    "import pandas as pd\n",
    "\n",
    "# Creating the dataset\n",
    "data = {\n",
    "    'Year': [2014, 2014, 2015, 2015, 2016, 2016, 2017, 2017, 2018, 2018,\n",
    "             2019, 2019, 2020, 2020, 2021, 2021, 2022, 2022, 2023, 2023],\n",
    "    'Global Avg Temperature Anomaly (°C)': [0.65, 0.66, 0.75, 0.77, 0.92, 0.93, 0.88, 0.89, 0.82, 0.83,\n",
    "                                            0.98, 0.99, 1.02, 1.03, 1.04, 1.05, 1.08, 1.09, 1.10, 1.11],\n",
    "    'CO₂ Concentration (ppm)': [398, 399, 401, 402, 404, 405, 407, 408, 410, 411,\n",
    "                                413, 414, 416, 417, 419, 420, 422, 423, 425, 426],\n",
    "}\n",
    "\n",
    "# Creating the DataFrame\n",
    "df = pd.DataFrame(data)\n",
    "\n",
    "# Converting DataFrame to list of dictionaries\n",
    "data_list = df.to_dict(orient='records')\n",
    "\n",
    "# Print the list\n",
    "for item in data_list:\n",
    "    print(item)\n"
   ]
  }
 ],
 "metadata": {
  "kernelspec": {
   "display_name": "Python 3",
   "language": "python",
   "name": "python3"
  },
  "language_info": {
   "codemirror_mode": {
    "name": "ipython",
    "version": 3
   },
   "file_extension": ".py",
   "mimetype": "text/x-python",
   "name": "python",
   "nbconvert_exporter": "python",
   "pygments_lexer": "ipython3",
   "version": "3.12.4"
  }
 },
 "nbformat": 4,
 "nbformat_minor": 2
}
